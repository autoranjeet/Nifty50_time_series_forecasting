{
 "cells": [
  {
   "cell_type": "markdown",
   "metadata": {},
   "source": [
    "# Description\n",
    "\n",
    "- Client want's to start investing in the stock market but, first of all he wants to test the waters by taking the help of machine learning to help him with the decision making whether to buy the stocks on the given day or not.\n",
    "- He want's to know if the market will rise or collapse on the given day to maximize his profits and reduce the losses.\n",
    "- The dataset is obtained from the official NSE India website.\n",
    "- The dataset has attributes like Dates, Open, High, Low, Close related to the nifty 50 index for a particular day.\n",
    "- The task is to Forecast the highest value of Nifty 50 index of the next day.\n",
    "- It's a \"Time Series Forecasting Problem\"."
   ]
  },
  {
   "cell_type": "code",
   "execution_count": 1,
   "metadata": {
    "executionInfo": {
     "elapsed": 3741,
     "status": "ok",
     "timestamp": 1607936517755,
     "user": {
      "displayName": "Ranjeet Jadhav",
      "photoUrl": "https://lh3.googleusercontent.com/a-/AOh14GhJKIWu6xiNk-wG8GpBU-So65DYj09ulyH629oSig=s64",
      "userId": "10874013577739596887"
     },
     "user_tz": -330
    },
    "id": "hCWLUlUcrTEF"
   },
   "outputs": [],
   "source": [
    "# !pip install keras"
   ]
  },
  {
   "cell_type": "code",
   "execution_count": 2,
   "metadata": {
    "executionInfo": {
     "elapsed": 7200,
     "status": "ok",
     "timestamp": 1607936521233,
     "user": {
      "displayName": "Ranjeet Jadhav",
      "photoUrl": "https://lh3.googleusercontent.com/a-/AOh14GhJKIWu6xiNk-wG8GpBU-So65DYj09ulyH629oSig=s64",
      "userId": "10874013577739596887"
     },
     "user_tz": -330
    },
    "id": "69v3DRRPp74T"
   },
   "outputs": [],
   "source": [
    "# Import Libraries\n",
    "import pandas as pd\n",
    "import numpy as np\n",
    "import matplotlib.pyplot as plt\n",
    "import seaborn as sns\n",
    "import math\n",
    "from sklearn.preprocessing import MinMaxScaler\n",
    "from keras.models import Sequential\n",
    "from keras.layers import Dense, LSTM"
   ]
  },
  {
   "cell_type": "code",
   "execution_count": 3,
   "metadata": {
    "colab": {
     "base_uri": "https://localhost:8080/"
    },
    "executionInfo": {
     "elapsed": 48558,
     "status": "ok",
     "timestamp": 1607936562616,
     "user": {
      "displayName": "Ranjeet Jadhav",
      "photoUrl": "https://lh3.googleusercontent.com/a-/AOh14GhJKIWu6xiNk-wG8GpBU-So65DYj09ulyH629oSig=s64",
      "userId": "10874013577739596887"
     },
     "user_tz": -330
    },
    "id": "Z7aqxst8oP_j",
    "outputId": "959b0fee-6e8c-4e76-917c-fab6c82c99ec"
   },
   "outputs": [
    {
     "name": "stdout",
     "output_type": "stream",
     "text": [
      "Mounted at /content/gdrive\n"
     ]
    }
   ],
   "source": [
    "from google.colab import drive\n",
    "drive.mount('/content/gdrive')"
   ]
  },
  {
   "cell_type": "code",
   "execution_count": 4,
   "metadata": {
    "colab": {
     "base_uri": "https://localhost:8080/",
     "height": 195
    },
    "executionInfo": {
     "elapsed": 50062,
     "status": "ok",
     "timestamp": 1607936564141,
     "user": {
      "displayName": "Ranjeet Jadhav",
      "photoUrl": "https://lh3.googleusercontent.com/a-/AOh14GhJKIWu6xiNk-wG8GpBU-So65DYj09ulyH629oSig=s64",
      "userId": "10874013577739596887"
     },
     "user_tz": -330
    },
    "id": "kDjGqDUDorNh",
    "outputId": "f79d5107-7f10-42b0-a872-30debf3120c3"
   },
   "outputs": [
    {
     "data": {
      "text/html": [
       "<div>\n",
       "<style scoped>\n",
       "    .dataframe tbody tr th:only-of-type {\n",
       "        vertical-align: middle;\n",
       "    }\n",
       "\n",
       "    .dataframe tbody tr th {\n",
       "        vertical-align: top;\n",
       "    }\n",
       "\n",
       "    .dataframe thead th {\n",
       "        text-align: right;\n",
       "    }\n",
       "</style>\n",
       "<table border=\"1\" class=\"dataframe\">\n",
       "  <thead>\n",
       "    <tr style=\"text-align: right;\">\n",
       "      <th></th>\n",
       "      <th>Unnamed: 0</th>\n",
       "      <th>Date</th>\n",
       "      <th>Open</th>\n",
       "      <th>High</th>\n",
       "      <th>Low</th>\n",
       "      <th>Close</th>\n",
       "      <th>Shares Traded</th>\n",
       "      <th>Turnover (Rs. Cr)</th>\n",
       "    </tr>\n",
       "  </thead>\n",
       "  <tbody>\n",
       "    <tr>\n",
       "      <th>0</th>\n",
       "      <td>0</td>\n",
       "      <td>03-Jan-2011</td>\n",
       "      <td>6177.45</td>\n",
       "      <td>6178.55</td>\n",
       "      <td>6147.20</td>\n",
       "      <td>6157.60</td>\n",
       "      <td>96028639</td>\n",
       "      <td>4477.36</td>\n",
       "    </tr>\n",
       "    <tr>\n",
       "      <th>1</th>\n",
       "      <td>1</td>\n",
       "      <td>04-Jan-2011</td>\n",
       "      <td>6172.75</td>\n",
       "      <td>6181.05</td>\n",
       "      <td>6124.40</td>\n",
       "      <td>6146.35</td>\n",
       "      <td>181727905</td>\n",
       "      <td>7678.55</td>\n",
       "    </tr>\n",
       "    <tr>\n",
       "      <th>2</th>\n",
       "      <td>2</td>\n",
       "      <td>05-Jan-2011</td>\n",
       "      <td>6141.35</td>\n",
       "      <td>6141.35</td>\n",
       "      <td>6062.35</td>\n",
       "      <td>6079.80</td>\n",
       "      <td>139614193</td>\n",
       "      <td>6606.21</td>\n",
       "    </tr>\n",
       "    <tr>\n",
       "      <th>3</th>\n",
       "      <td>3</td>\n",
       "      <td>06-Jan-2011</td>\n",
       "      <td>6107.00</td>\n",
       "      <td>6116.15</td>\n",
       "      <td>6022.30</td>\n",
       "      <td>6048.25</td>\n",
       "      <td>152338978</td>\n",
       "      <td>7050.18</td>\n",
       "    </tr>\n",
       "    <tr>\n",
       "      <th>4</th>\n",
       "      <td>4</td>\n",
       "      <td>07-Jan-2011</td>\n",
       "      <td>6030.90</td>\n",
       "      <td>6051.20</td>\n",
       "      <td>5883.60</td>\n",
       "      <td>5904.60</td>\n",
       "      <td>171809106</td>\n",
       "      <td>8325.79</td>\n",
       "    </tr>\n",
       "  </tbody>\n",
       "</table>\n",
       "</div>"
      ],
      "text/plain": [
       "   Unnamed: 0         Date     Open  ...    Close  Shares Traded  Turnover (Rs. Cr)\n",
       "0           0  03-Jan-2011  6177.45  ...  6157.60       96028639            4477.36\n",
       "1           1  04-Jan-2011  6172.75  ...  6146.35      181727905            7678.55\n",
       "2           2  05-Jan-2011  6141.35  ...  6079.80      139614193            6606.21\n",
       "3           3  06-Jan-2011  6107.00  ...  6048.25      152338978            7050.18\n",
       "4           4  07-Jan-2011  6030.90  ...  5904.60      171809106            8325.79\n",
       "\n",
       "[5 rows x 8 columns]"
      ]
     },
     "execution_count": 4,
     "metadata": {
      "tags": []
     },
     "output_type": "execute_result"
    }
   ],
   "source": [
    "# Importing the data\n",
    "df = pd.read_csv('/content/gdrive/MyDrive/Board Infinity/ML/Stock Market Forecasting Project/Nifty 50 2011-20.csv')\n",
    "df.head()"
   ]
  },
  {
   "cell_type": "code",
   "execution_count": 5,
   "metadata": {
    "colab": {
     "base_uri": "https://localhost:8080/"
    },
    "executionInfo": {
     "elapsed": 50044,
     "status": "ok",
     "timestamp": 1607936564143,
     "user": {
      "displayName": "Ranjeet Jadhav",
      "photoUrl": "https://lh3.googleusercontent.com/a-/AOh14GhJKIWu6xiNk-wG8GpBU-So65DYj09ulyH629oSig=s64",
      "userId": "10874013577739596887"
     },
     "user_tz": -330
    },
    "id": "j4cMAXnuqMY9",
    "outputId": "5958d6ac-a915-4f05-f96a-e2512935ff02"
   },
   "outputs": [
    {
     "name": "stdout",
     "output_type": "stream",
     "text": [
      "<class 'pandas.core.frame.DataFrame'>\n",
      "RangeIndex: 2457 entries, 0 to 2456\n",
      "Data columns (total 8 columns):\n",
      " #   Column             Non-Null Count  Dtype  \n",
      "---  ------             --------------  -----  \n",
      " 0   Unnamed: 0         2457 non-null   int64  \n",
      " 1   Date               2457 non-null   object \n",
      " 2   Open               2457 non-null   float64\n",
      " 3   High               2457 non-null   float64\n",
      " 4   Low                2457 non-null   float64\n",
      " 5   Close              2457 non-null   float64\n",
      " 6   Shares Traded      2457 non-null   int64  \n",
      " 7   Turnover (Rs. Cr)  2457 non-null   float64\n",
      "dtypes: float64(5), int64(2), object(1)\n",
      "memory usage: 153.7+ KB\n"
     ]
    }
   ],
   "source": [
    "df.info()"
   ]
  },
  {
   "cell_type": "code",
   "execution_count": 6,
   "metadata": {
    "executionInfo": {
     "elapsed": 50039,
     "status": "ok",
     "timestamp": 1607936564145,
     "user": {
      "displayName": "Ranjeet Jadhav",
      "photoUrl": "https://lh3.googleusercontent.com/a-/AOh14GhJKIWu6xiNk-wG8GpBU-So65DYj09ulyH629oSig=s64",
      "userId": "10874013577739596887"
     },
     "user_tz": -330
    },
    "id": "RkBoCxlAs4FN"
   },
   "outputs": [],
   "source": [
    "df['Date'] = pd.to_datetime(df['Date'])"
   ]
  },
  {
   "cell_type": "code",
   "execution_count": 7,
   "metadata": {
    "colab": {
     "base_uri": "https://localhost:8080/"
    },
    "executionInfo": {
     "elapsed": 50023,
     "status": "ok",
     "timestamp": 1607936564146,
     "user": {
      "displayName": "Ranjeet Jadhav",
      "photoUrl": "https://lh3.googleusercontent.com/a-/AOh14GhJKIWu6xiNk-wG8GpBU-So65DYj09ulyH629oSig=s64",
      "userId": "10874013577739596887"
     },
     "user_tz": -330
    },
    "id": "8CK5bFHZtSGN",
    "outputId": "7d97cb96-9ec9-4f7b-a29d-38e18c85b898"
   },
   "outputs": [
    {
     "name": "stdout",
     "output_type": "stream",
     "text": [
      "<class 'pandas.core.frame.DataFrame'>\n",
      "RangeIndex: 2457 entries, 0 to 2456\n",
      "Data columns (total 8 columns):\n",
      " #   Column             Non-Null Count  Dtype         \n",
      "---  ------             --------------  -----         \n",
      " 0   Unnamed: 0         2457 non-null   int64         \n",
      " 1   Date               2457 non-null   datetime64[ns]\n",
      " 2   Open               2457 non-null   float64       \n",
      " 3   High               2457 non-null   float64       \n",
      " 4   Low                2457 non-null   float64       \n",
      " 5   Close              2457 non-null   float64       \n",
      " 6   Shares Traded      2457 non-null   int64         \n",
      " 7   Turnover (Rs. Cr)  2457 non-null   float64       \n",
      "dtypes: datetime64[ns](1), float64(5), int64(2)\n",
      "memory usage: 153.7 KB\n"
     ]
    }
   ],
   "source": [
    "df.info()"
   ]
  },
  {
   "cell_type": "code",
   "execution_count": 8,
   "metadata": {
    "colab": {
     "base_uri": "https://localhost:8080/",
     "height": 225
    },
    "executionInfo": {
     "elapsed": 50008,
     "status": "ok",
     "timestamp": 1607936564147,
     "user": {
      "displayName": "Ranjeet Jadhav",
      "photoUrl": "https://lh3.googleusercontent.com/a-/AOh14GhJKIWu6xiNk-wG8GpBU-So65DYj09ulyH629oSig=s64",
      "userId": "10874013577739596887"
     },
     "user_tz": -330
    },
    "id": "rCG31ecztYNz",
    "outputId": "86d9f470-b93a-4ad6-a943-fd36ef0f94b1"
   },
   "outputs": [
    {
     "data": {
      "text/html": [
       "<div>\n",
       "<style scoped>\n",
       "    .dataframe tbody tr th:only-of-type {\n",
       "        vertical-align: middle;\n",
       "    }\n",
       "\n",
       "    .dataframe tbody tr th {\n",
       "        vertical-align: top;\n",
       "    }\n",
       "\n",
       "    .dataframe thead th {\n",
       "        text-align: right;\n",
       "    }\n",
       "</style>\n",
       "<table border=\"1\" class=\"dataframe\">\n",
       "  <thead>\n",
       "    <tr style=\"text-align: right;\">\n",
       "      <th></th>\n",
       "      <th>High</th>\n",
       "    </tr>\n",
       "    <tr>\n",
       "      <th>Date</th>\n",
       "      <th></th>\n",
       "    </tr>\n",
       "  </thead>\n",
       "  <tbody>\n",
       "    <tr>\n",
       "      <th>2011-01-03</th>\n",
       "      <td>6178.55</td>\n",
       "    </tr>\n",
       "    <tr>\n",
       "      <th>2011-01-04</th>\n",
       "      <td>6181.05</td>\n",
       "    </tr>\n",
       "    <tr>\n",
       "      <th>2011-01-05</th>\n",
       "      <td>6141.35</td>\n",
       "    </tr>\n",
       "    <tr>\n",
       "      <th>2011-01-06</th>\n",
       "      <td>6116.15</td>\n",
       "    </tr>\n",
       "    <tr>\n",
       "      <th>2011-01-07</th>\n",
       "      <td>6051.20</td>\n",
       "    </tr>\n",
       "  </tbody>\n",
       "</table>\n",
       "</div>"
      ],
      "text/plain": [
       "               High\n",
       "Date               \n",
       "2011-01-03  6178.55\n",
       "2011-01-04  6181.05\n",
       "2011-01-05  6141.35\n",
       "2011-01-06  6116.15\n",
       "2011-01-07  6051.20"
      ]
     },
     "execution_count": 8,
     "metadata": {
      "tags": []
     },
     "output_type": "execute_result"
    }
   ],
   "source": [
    "# Create a new dataframe with only high column\n",
    "\n",
    "ts = df[['Date','High']]\n",
    "ts.set_index('Date', inplace = True)\n",
    "ts.head()"
   ]
  },
  {
   "cell_type": "code",
   "execution_count": 9,
   "metadata": {
    "colab": {
     "base_uri": "https://localhost:8080/",
     "height": 384
    },
    "executionInfo": {
     "elapsed": 49997,
     "status": "ok",
     "timestamp": 1607936564149,
     "user": {
      "displayName": "Ranjeet Jadhav",
      "photoUrl": "https://lh3.googleusercontent.com/a-/AOh14GhJKIWu6xiNk-wG8GpBU-So65DYj09ulyH629oSig=s64",
      "userId": "10874013577739596887"
     },
     "user_tz": -330
    },
    "id": "RzTFcNHrueI8",
    "outputId": "f1f76ea7-39ee-44e0-8dee-30167b43ad09"
   },
   "outputs": [
    {
     "data": {
      "text/plain": [
       "<matplotlib.axes._subplots.AxesSubplot at 0x7f171f9f5940>"
      ]
     },
     "execution_count": 9,
     "metadata": {
      "tags": []
     },
     "output_type": "execute_result"
    },
    {
     "data": {
      "image/png": "[encoded data removed]",
      "text/plain": [
       "<Figure size 864x432 with 1 Axes>"
      ]
     },
     "metadata": {
      "needs_background": "light",
      "tags": []
     },
     "output_type": "display_data"
    }
   ],
   "source": [
    "ts.plot(figsize = (12,6), kind= 'line')"
   ]
  },
  {
   "cell_type": "code",
   "execution_count": 10,
   "metadata": {
    "colab": {
     "base_uri": "https://localhost:8080/"
    },
    "executionInfo": {
     "elapsed": 49987,
     "status": "ok",
     "timestamp": 1607936564151,
     "user": {
      "displayName": "Ranjeet Jadhav",
      "photoUrl": "https://lh3.googleusercontent.com/a-/AOh14GhJKIWu6xiNk-wG8GpBU-So65DYj09ulyH629oSig=s64",
      "userId": "10874013577739596887"
     },
     "user_tz": -330
    },
    "id": "mZxs2wMmutHo",
    "outputId": "3092fa4d-f787-4e9a-870c-7bcfc579432f"
   },
   "outputs": [
    {
     "data": {
      "text/plain": [
       "1720"
      ]
     },
     "execution_count": 10,
     "metadata": {
      "tags": []
     },
     "output_type": "execute_result"
    }
   ],
   "source": [
    "# Get the amount of data to be trained\n",
    "training_data_len = math.ceil(len(ts)*0.7)\n",
    "training_data_len"
   ]
  },
  {
   "cell_type": "code",
   "execution_count": 11,
   "metadata": {
    "colab": {
     "base_uri": "https://localhost:8080/"
    },
    "executionInfo": {
     "elapsed": 49976,
     "status": "ok",
     "timestamp": 1607936564151,
     "user": {
      "displayName": "Ranjeet Jadhav",
      "photoUrl": "https://lh3.googleusercontent.com/a-/AOh14GhJKIWu6xiNk-wG8GpBU-So65DYj09ulyH629oSig=s64",
      "userId": "10874013577739596887"
     },
     "user_tz": -330
    },
    "id": "IMBs8uVQvVxX",
    "outputId": "002d6ec1-8972-4983-c7bd-799e0a1c8971"
   },
   "outputs": [
    {
     "data": {
      "text/plain": [
       "array([[0.18250085],\n",
       "       [0.18279418],\n",
       "       [0.17813604],\n",
       "       [0.17517923],\n",
       "       [0.1675584 ],\n",
       "       [0.15066822],\n",
       "       [0.14308259],\n",
       "       [0.14679034],\n",
       "       [0.1448602 ],\n",
       "       [0.14203245]])"
      ]
     },
     "execution_count": 11,
     "metadata": {
      "tags": []
     },
     "output_type": "execute_result"
    }
   ],
   "source": [
    "# Scaling the data\n",
    "scaler = MinMaxScaler(feature_range = (0,1))\n",
    "scaled_data = scaler.fit_transform(ts)\n",
    "scaled_data[:10]"
   ]
  },
  {
   "cell_type": "code",
   "execution_count": 12,
   "metadata": {
    "colab": {
     "base_uri": "https://localhost:8080/"
    },
    "executionInfo": {
     "elapsed": 49964,
     "status": "ok",
     "timestamp": 1607936564152,
     "user": {
      "displayName": "Ranjeet Jadhav",
      "photoUrl": "https://lh3.googleusercontent.com/a-/AOh14GhJKIWu6xiNk-wG8GpBU-So65DYj09ulyH629oSig=s64",
      "userId": "10874013577739596887"
     },
     "user_tz": -330
    },
    "id": "R020MVUavxsF",
    "outputId": "a91d4498-b9ee-4909-8c4d-8e1d0bc68ee1"
   },
   "outputs": [
    {
     "name": "stdout",
     "output_type": "stream",
     "text": [
      "[array([0.18250085, 0.18279418, 0.17813604, 0.17517923, 0.1675584 ,\n",
      "       0.15066822, 0.14308259, 0.14679034, 0.1448602 , 0.14203245,\n",
      "       0.12589907, 0.12992948, 0.13194176, 0.12980628, 0.12841001,\n",
      "       0.13292149, 0.13826604, 0.12941321, 0.11630704, 0.10603447,\n",
      "       0.10747768, 0.10178113, 0.10671501, 0.10948995, 0.09588511,\n",
      "       0.09494644, 0.08404614, 0.07620238, 0.08169946, 0.09863658,\n",
      "       0.10364673, 0.10344726, 0.10910275, 0.11452943, 0.10596407,\n",
      "       0.1051662 , 0.10232086, 0.0938963 , 0.08389947, 0.10018539,\n",
      "       0.10676194, 0.11118542, 0.11557957, 0.10185739, 0.10646861,\n",
      "       0.11031129, 0.1047966 , 0.10320086, 0.10726061, 0.1026318 ,\n",
      "       0.10700248, 0.10406327, 0.10089526, 0.09271123, 0.09445364,\n",
      "       0.10111819, 0.10628674, 0.12249053, 0.12741854, 0.13460523])]\n",
      "[0.13845377638541767]\n",
      "\n",
      "[array([0.18250085, 0.18279418, 0.17813604, 0.17517923, 0.1675584 ,\n",
      "       0.15066822, 0.14308259, 0.14679034, 0.1448602 , 0.14203245,\n",
      "       0.12589907, 0.12992948, 0.13194176, 0.12980628, 0.12841001,\n",
      "       0.13292149, 0.13826604, 0.12941321, 0.11630704, 0.10603447,\n",
      "       0.10747768, 0.10178113, 0.10671501, 0.10948995, 0.09588511,\n",
      "       0.09494644, 0.08404614, 0.07620238, 0.08169946, 0.09863658,\n",
      "       0.10364673, 0.10344726, 0.10910275, 0.11452943, 0.10596407,\n",
      "       0.1051662 , 0.10232086, 0.0938963 , 0.08389947, 0.10018539,\n",
      "       0.10676194, 0.11118542, 0.11557957, 0.10185739, 0.10646861,\n",
      "       0.11031129, 0.1047966 , 0.10320086, 0.10726061, 0.1026318 ,\n",
      "       0.10700248, 0.10406327, 0.10089526, 0.09271123, 0.09445364,\n",
      "       0.10111819, 0.10628674, 0.12249053, 0.12741854, 0.13460523]), array([0.18279418, 0.17813604, 0.17517923, 0.1675584 , 0.15066822,\n",
      "       0.14308259, 0.14679034, 0.1448602 , 0.14203245, 0.12589907,\n",
      "       0.12992948, 0.13194176, 0.12980628, 0.12841001, 0.13292149,\n",
      "       0.13826604, 0.12941321, 0.11630704, 0.10603447, 0.10747768,\n",
      "       0.10178113, 0.10671501, 0.10948995, 0.09588511, 0.09494644,\n",
      "       0.08404614, 0.07620238, 0.08169946, 0.09863658, 0.10364673,\n",
      "       0.10344726, 0.10910275, 0.11452943, 0.10596407, 0.1051662 ,\n",
      "       0.10232086, 0.0938963 , 0.08389947, 0.10018539, 0.10676194,\n",
      "       0.11118542, 0.11557957, 0.10185739, 0.10646861, 0.11031129,\n",
      "       0.1047966 , 0.10320086, 0.10726061, 0.1026318 , 0.10700248,\n",
      "       0.10406327, 0.10089526, 0.09271123, 0.09445364, 0.10111819,\n",
      "       0.10628674, 0.12249053, 0.12741854, 0.13460523, 0.13845378])]\n",
      "[0.13845377638541767, 0.14653220223638053]\n",
      "\n"
     ]
    }
   ],
   "source": [
    "# Create a scaled training dataset\n",
    "train_data = scaled_data[0:training_data_len,:]\n",
    "\n",
    "# Split the data into x_train(Independent variables) and y_train(dependent variable) datasets\n",
    "x_train = []\n",
    "y_train = []\n",
    "\n",
    "for i in range(60,len(train_data)):\n",
    "  x_train.append(train_data[i-60:i,0])\n",
    "  y_train.append(train_data[i,0])\n",
    "  \n",
    "  if i<=61:\n",
    "    print(x_train)\n",
    "    print(y_train)\n",
    "    print()"
   ]
  },
  {
   "cell_type": "code",
   "execution_count": 13,
   "metadata": {
    "executionInfo": {
     "elapsed": 49961,
     "status": "ok",
     "timestamp": 1607936564153,
     "user": {
      "displayName": "Ranjeet Jadhav",
      "photoUrl": "https://lh3.googleusercontent.com/a-/AOh14GhJKIWu6xiNk-wG8GpBU-So65DYj09ulyH629oSig=s64",
      "userId": "10874013577739596887"
     },
     "user_tz": -330
    },
    "id": "2R-g_4NpF-Dg"
   },
   "outputs": [],
   "source": [
    "# Convert the x_train and y_train to numpy arrays\n",
    "x_train, y_train = np.array(x_train), np.array(y_train) "
   ]
  },
  {
   "cell_type": "code",
   "execution_count": 14,
   "metadata": {
    "colab": {
     "base_uri": "https://localhost:8080/"
    },
    "executionInfo": {
     "elapsed": 49951,
     "status": "ok",
     "timestamp": 1607936564154,
     "user": {
      "displayName": "Ranjeet Jadhav",
      "photoUrl": "https://lh3.googleusercontent.com/a-/AOh14GhJKIWu6xiNk-wG8GpBU-So65DYj09ulyH629oSig=s64",
      "userId": "10874013577739596887"
     },
     "user_tz": -330
    },
    "id": "DsBaaRkzHLqw",
    "outputId": "4bdc4244-e7e4-4e9e-94f1-45139478c08a"
   },
   "outputs": [
    {
     "data": {
      "text/plain": [
       "(1660, 60)"
      ]
     },
     "execution_count": 14,
     "metadata": {
      "tags": []
     },
     "output_type": "execute_result"
    }
   ],
   "source": [
    "x_train.shape"
   ]
  },
  {
   "cell_type": "code",
   "execution_count": 15,
   "metadata": {
    "colab": {
     "base_uri": "https://localhost:8080/"
    },
    "executionInfo": {
     "elapsed": 49941,
     "status": "ok",
     "timestamp": 1607936564155,
     "user": {
      "displayName": "Ranjeet Jadhav",
      "photoUrl": "https://lh3.googleusercontent.com/a-/AOh14GhJKIWu6xiNk-wG8GpBU-So65DYj09ulyH629oSig=s64",
      "userId": "10874013577739596887"
     },
     "user_tz": -330
    },
    "id": "qLpB5XZCGdTg",
    "outputId": "ad969345-c48f-420b-de78-59fbb7c0b548"
   },
   "outputs": [
    {
     "data": {
      "text/plain": [
       "(1660, 60, 1)"
      ]
     },
     "execution_count": 15,
     "metadata": {
      "tags": []
     },
     "output_type": "execute_result"
    }
   ],
   "source": [
    "# Reshape the data\n",
    "# Why, Because the LSTM model expects the input in three dimensional form (no_samples, time_steps, no_features)\n",
    "# x_train = np.reshape(x_train, (1660 , 60, 1))\n",
    "x_train = np.reshape(x_train, (x_train.shape[0], x_train.shape[1], 1))\n",
    "x_train.shape"
   ]
  },
  {
   "cell_type": "code",
   "execution_count": 16,
   "metadata": {
    "executionInfo": {
     "elapsed": 50457,
     "status": "ok",
     "timestamp": 1607936564675,
     "user": {
      "displayName": "Ranjeet Jadhav",
      "photoUrl": "https://lh3.googleusercontent.com/a-/AOh14GhJKIWu6xiNk-wG8GpBU-So65DYj09ulyH629oSig=s64",
      "userId": "10874013577739596887"
     },
     "user_tz": -330
    },
    "id": "zdnIzDavHVgm"
   },
   "outputs": [],
   "source": [
    "# Build the LSTM Model\n",
    "model = Sequential()\n",
    "model.add(LSTM(50,return_sequences=True, input_shape = (x_train.shape[1], 1)))\n",
    "model.add(LSTM(50, return_sequences=False))\n",
    "model.add(Dense(25))\n",
    "model.add(Dense(1))"
   ]
  },
  {
   "cell_type": "code",
   "execution_count": 17,
   "metadata": {
    "executionInfo": {
     "elapsed": 50454,
     "status": "ok",
     "timestamp": 1607936564676,
     "user": {
      "displayName": "Ranjeet Jadhav",
      "photoUrl": "https://lh3.googleusercontent.com/a-/AOh14GhJKIWu6xiNk-wG8GpBU-So65DYj09ulyH629oSig=s64",
      "userId": "10874013577739596887"
     },
     "user_tz": -330
    },
    "id": "x4lpo_3oH7WI"
   },
   "outputs": [],
   "source": [
    "# Compile the model\n",
    "model.compile(optimizer = 'adam', loss = 'mean_squared_error')"
   ]
  },
  {
   "cell_type": "code",
   "execution_count": 18,
   "metadata": {
    "colab": {
     "base_uri": "https://localhost:8080/"
    },
    "executionInfo": {
     "elapsed": 232535,
     "status": "ok",
     "timestamp": 1607936746768,
     "user": {
      "displayName": "Ranjeet Jadhav",
      "photoUrl": "https://lh3.googleusercontent.com/a-/AOh14GhJKIWu6xiNk-wG8GpBU-So65DYj09ulyH629oSig=s64",
      "userId": "10874013577739596887"
     },
     "user_tz": -330
    },
    "id": "v_FVur2zINCG",
    "outputId": "709b75bf-fc05-49f9-9aca-c6c5243927f9"
   },
   "outputs": [
    {
     "name": "stdout",
     "output_type": "stream",
     "text": [
      "Epoch 1/5\n",
      "1660/1660 [==============================] - 36s 21ms/step - loss: 8.8608e-04\n",
      "Epoch 2/5\n",
      "1660/1660 [==============================] - 35s 21ms/step - loss: 3.5623e-04\n",
      "Epoch 3/5\n",
      "1660/1660 [==============================] - 35s 21ms/step - loss: 2.6557e-04\n",
      "Epoch 4/5\n",
      "1660/1660 [==============================] - 36s 22ms/step - loss: 1.9822e-04\n",
      "Epoch 5/5\n",
      "1660/1660 [==============================] - 37s 22ms/step - loss: 1.4398e-04\n"
     ]
    },
    {
     "data": {
      "text/plain": [
       "<tensorflow.python.keras.callbacks.History at 0x7f1718b8ff60>"
      ]
     },
     "execution_count": 18,
     "metadata": {
      "tags": []
     },
     "output_type": "execute_result"
    }
   ],
   "source": [
    "# Train the model\n",
    "model.fit(x_train, y_train, batch_size= 1, epochs=5)"
   ]
  },
  {
   "cell_type": "code",
   "execution_count": 19,
   "metadata": {
    "executionInfo": {
     "elapsed": 232535,
     "status": "ok",
     "timestamp": 1607936746772,
     "user": {
      "displayName": "Ranjeet Jadhav",
      "photoUrl": "https://lh3.googleusercontent.com/a-/AOh14GhJKIWu6xiNk-wG8GpBU-So65DYj09ulyH629oSig=s64",
      "userId": "10874013577739596887"
     },
     "user_tz": -330
    },
    "id": "IGeLYBJPIxHU"
   },
   "outputs": [],
   "source": [
    "# Create a test dataset\n",
    "# Create a new array containing scaled values from index 1660 to last one\n",
    "test_data = scaled_data[training_data_len - 60:, : ]\n",
    "\n",
    "# Create a dataset x_test and y_test\n",
    "x_test = []\n",
    "y_test = ts.iloc[training_data_len :, : ]\n",
    "\n",
    "for i in range(60,len(test_data)):\n",
    "  x_test.append(test_data[i-60:i, 0])"
   ]
  },
  {
   "cell_type": "code",
   "execution_count": 20,
   "metadata": {
    "executionInfo": {
     "elapsed": 232537,
     "status": "ok",
     "timestamp": 1607936746777,
     "user": {
      "displayName": "Ranjeet Jadhav",
      "photoUrl": "https://lh3.googleusercontent.com/a-/AOh14GhJKIWu6xiNk-wG8GpBU-So65DYj09ulyH629oSig=s64",
      "userId": "10874013577739596887"
     },
     "user_tz": -330
    },
    "id": "E0m6nqEVLLgi"
   },
   "outputs": [],
   "source": [
    "# Convert the data to numpy array\n",
    "x_test,y_test = np.array(x_test), np.array(y_test)"
   ]
  },
  {
   "cell_type": "code",
   "execution_count": 21,
   "metadata": {
    "executionInfo": {
     "elapsed": 232536,
     "status": "ok",
     "timestamp": 1607936746780,
     "user": {
      "displayName": "Ranjeet Jadhav",
      "photoUrl": "https://lh3.googleusercontent.com/a-/AOh14GhJKIWu6xiNk-wG8GpBU-So65DYj09ulyH629oSig=s64",
      "userId": "10874013577739596887"
     },
     "user_tz": -330
    },
    "id": "3clctpYnLbTu"
   },
   "outputs": [],
   "source": [
    "# Reshape the data\n",
    "x_test = np.reshape(x_test, (x_test.shape[0],x_test.shape[1], 1))"
   ]
  },
  {
   "cell_type": "code",
   "execution_count": 22,
   "metadata": {
    "executionInfo": {
     "elapsed": 235202,
     "status": "ok",
     "timestamp": 1607936749449,
     "user": {
      "displayName": "Ranjeet Jadhav",
      "photoUrl": "https://lh3.googleusercontent.com/a-/AOh14GhJKIWu6xiNk-wG8GpBU-So65DYj09ulyH629oSig=s64",
      "userId": "10874013577739596887"
     },
     "user_tz": -330
    },
    "id": "zIsk3m0uLvZU"
   },
   "outputs": [],
   "source": [
    "# Get the models predicted values\n",
    "predictions = model.predict(x_test)\n",
    "predictions = scaler.inverse_transform(predictions)"
   ]
  },
  {
   "cell_type": "code",
   "execution_count": 23,
   "metadata": {
    "colab": {
     "base_uri": "https://localhost:8080/"
    },
    "executionInfo": {
     "elapsed": 235206,
     "status": "ok",
     "timestamp": 1607936749463,
     "user": {
      "displayName": "Ranjeet Jadhav",
      "photoUrl": "https://lh3.googleusercontent.com/a-/AOh14GhJKIWu6xiNk-wG8GpBU-So65DYj09ulyH629oSig=s64",
      "userId": "10874013577739596887"
     },
     "user_tz": -330
    },
    "id": "LhRzm-IvMCnX",
    "outputId": "ba2749f7-c222-465a-92ed-8c80039e9cdb"
   },
   "outputs": [
    {
     "data": {
      "text/plain": [
       "66.12585863297151"
      ]
     },
     "execution_count": 23,
     "metadata": {
      "tags": []
     },
     "output_type": "execute_result"
    }
   ],
   "source": [
    "# Get the RMSE - root mean square error\n",
    "rmse = np.sqrt(np.mean(predictions - y_test)**2)\n",
    "rmse"
   ]
  },
  {
   "cell_type": "code",
   "execution_count": 24,
   "metadata": {
    "colab": {
     "base_uri": "https://localhost:8080/"
    },
    "executionInfo": {
     "elapsed": 235200,
     "status": "ok",
     "timestamp": 1607936749464,
     "user": {
      "displayName": "Ranjeet Jadhav",
      "photoUrl": "https://lh3.googleusercontent.com/a-/AOh14GhJKIWu6xiNk-wG8GpBU-So65DYj09ulyH629oSig=s64",
      "userId": "10874013577739596887"
     },
     "user_tz": -330
    },
    "id": "E2YDaOEAMp6O",
    "outputId": "8b9f29fb-63d0-4aae-9a71-fe7f7ad95931"
   },
   "outputs": [
    {
     "name": "stderr",
     "output_type": "stream",
     "text": [
      "/usr/local/lib/python3.6/dist-packages/ipykernel_launcher.py:4: SettingWithCopyWarning: \n",
      "A value is trying to be set on a copy of a slice from a DataFrame.\n",
      "Try using .loc[row_indexer,col_indexer] = value instead\n",
      "\n",
      "See the caveats in the documentation: https://pandas.pydata.org/pandas-docs/stable/user_guide/indexing.html#returning-a-view-versus-a-copy\n",
      "  after removing the cwd from sys.path.\n"
     ]
    }
   ],
   "source": [
    "# Plot the data\n",
    "train = ts.iloc[:training_data_len]\n",
    "valid = ts.iloc[training_data_len:]\n",
    "valid['Predictions'] = predictions"
   ]
  },
  {
   "cell_type": "code",
   "execution_count": 25,
   "metadata": {
    "colab": {
     "base_uri": "https://localhost:8080/",
     "height": 444
    },
    "executionInfo": {
     "elapsed": 235194,
     "status": "ok",
     "timestamp": 1607936749465,
     "user": {
      "displayName": "Ranjeet Jadhav",
      "photoUrl": "https://lh3.googleusercontent.com/a-/AOh14GhJKIWu6xiNk-wG8GpBU-So65DYj09ulyH629oSig=s64",
      "userId": "10874013577739596887"
     },
     "user_tz": -330
    },
    "id": "lhIk7vGHNPOb",
    "outputId": "1e7ecd5b-6612-4c45-b4ed-fcf4c3277ec1"
   },
   "outputs": [
    {
     "data": {
      "image/png": "[encoded data removed]",
      "text/plain": [
       "<Figure size 1080x504 with 1 Axes>"
      ]
     },
     "metadata": {
      "needs_background": "light",
      "tags": []
     },
     "output_type": "display_data"
    }
   ],
   "source": [
    "plt.figure(figsize = (15,7))\n",
    "plt.title('High Preice Predictions')\n",
    "plt.plot(train['High'])\n",
    "plt.plot(valid[['High', 'Predictions']])\n",
    "plt.legend(['Train','Valid', 'Predictions'], loc = 'lower right')\n",
    "plt.show()"
   ]
  },
  {
   "cell_type": "code",
   "execution_count": 26,
   "metadata": {
    "colab": {
     "base_uri": "https://localhost:8080/",
     "height": 225
    },
    "executionInfo": {
     "elapsed": 235187,
     "status": "ok",
     "timestamp": 1607936749466,
     "user": {
      "displayName": "Ranjeet Jadhav",
      "photoUrl": "https://lh3.googleusercontent.com/a-/AOh14GhJKIWu6xiNk-wG8GpBU-So65DYj09ulyH629oSig=s64",
      "userId": "10874013577739596887"
     },
     "user_tz": -330
    },
    "id": "TK0Ogef7OK08",
    "outputId": "0e82c570-eee5-46c4-ab4e-8c3318091e7f"
   },
   "outputs": [
    {
     "data": {
      "text/html": [
       "<div>\n",
       "<style scoped>\n",
       "    .dataframe tbody tr th:only-of-type {\n",
       "        vertical-align: middle;\n",
       "    }\n",
       "\n",
       "    .dataframe tbody tr th {\n",
       "        vertical-align: top;\n",
       "    }\n",
       "\n",
       "    .dataframe thead th {\n",
       "        text-align: right;\n",
       "    }\n",
       "</style>\n",
       "<table border=\"1\" class=\"dataframe\">\n",
       "  <thead>\n",
       "    <tr style=\"text-align: right;\">\n",
       "      <th></th>\n",
       "      <th>High</th>\n",
       "      <th>Predictions</th>\n",
       "    </tr>\n",
       "    <tr>\n",
       "      <th>Date</th>\n",
       "      <th></th>\n",
       "      <th></th>\n",
       "    </tr>\n",
       "  </thead>\n",
       "  <tbody>\n",
       "    <tr>\n",
       "      <th>2017-12-11</th>\n",
       "      <td>10329.20</td>\n",
       "      <td>10370.394531</td>\n",
       "    </tr>\n",
       "    <tr>\n",
       "      <th>2017-12-12</th>\n",
       "      <td>10326.10</td>\n",
       "      <td>10420.638672</td>\n",
       "    </tr>\n",
       "    <tr>\n",
       "      <th>2017-12-13</th>\n",
       "      <td>10296.55</td>\n",
       "      <td>10409.396484</td>\n",
       "    </tr>\n",
       "    <tr>\n",
       "      <th>2017-12-14</th>\n",
       "      <td>10276.10</td>\n",
       "      <td>10376.146484</td>\n",
       "    </tr>\n",
       "    <tr>\n",
       "      <th>2017-12-15</th>\n",
       "      <td>10373.10</td>\n",
       "      <td>10356.047852</td>\n",
       "    </tr>\n",
       "  </tbody>\n",
       "</table>\n",
       "</div>"
      ],
      "text/plain": [
       "                High   Predictions\n",
       "Date                              \n",
       "2017-12-11  10329.20  10370.394531\n",
       "2017-12-12  10326.10  10420.638672\n",
       "2017-12-13  10296.55  10409.396484\n",
       "2017-12-14  10276.10  10376.146484\n",
       "2017-12-15  10373.10  10356.047852"
      ]
     },
     "execution_count": 26,
     "metadata": {
      "tags": []
     },
     "output_type": "execute_result"
    }
   ],
   "source": [
    "valid.head()"
   ]
  },
  {
   "cell_type": "code",
   "execution_count": 27,
   "metadata": {
    "colab": {
     "base_uri": "https://localhost:8080/"
    },
    "executionInfo": {
     "elapsed": 235179,
     "status": "ok",
     "timestamp": 1607936749467,
     "user": {
      "displayName": "Ranjeet Jadhav",
      "photoUrl": "https://lh3.googleusercontent.com/a-/AOh14GhJKIWu6xiNk-wG8GpBU-So65DYj09ulyH629oSig=s64",
      "userId": "10874013577739596887"
     },
     "user_tz": -330
    },
    "id": "XaRdmAQFOrPu",
    "outputId": "674269f2-15b0-44a0-b912-9da8494f20af"
   },
   "outputs": [
    {
     "data": {
      "text/plain": [
       "(737, 2)"
      ]
     },
     "execution_count": 27,
     "metadata": {
      "tags": []
     },
     "output_type": "execute_result"
    }
   ],
   "source": [
    "valid.shape"
   ]
  },
  {
   "cell_type": "code",
   "execution_count": 28,
   "metadata": {
    "colab": {
     "base_uri": "https://localhost:8080/"
    },
    "executionInfo": {
     "elapsed": 235178,
     "status": "ok",
     "timestamp": 1607936749469,
     "user": {
      "displayName": "Ranjeet Jadhav",
      "photoUrl": "https://lh3.googleusercontent.com/a-/AOh14GhJKIWu6xiNk-wG8GpBU-So65DYj09ulyH629oSig=s64",
      "userId": "10874013577739596887"
     },
     "user_tz": -330
    },
    "id": "PTykzEXcPVEO",
    "outputId": "97e74322-1288-46e0-c0f5-1bb533aafc81"
   },
   "outputs": [
    {
     "name": "stdout",
     "output_type": "stream",
     "text": [
      "[[5807.18]]\n"
     ]
    }
   ],
   "source": [
    "# For predicting one value\n",
    "\n",
    "ts1 = ts.copy()\n",
    "ts1 = ts1[:61]\n",
    "# Get the last 60 days index and convert to array\n",
    "last_60_days = ts1[-60:].values\n",
    "# Scale the data to be between 0 and 1\n",
    "last_60_days_scaled = scaler.transform(last_60_days)\n",
    "\n",
    "X_test = []\n",
    "X_test.append(last_60_days_scaled)\n",
    "\n",
    "# Convert the x_test data set to a numpy array\n",
    "X_test = np.array(X_test)\n",
    "#Reshape the data\n",
    "X_test = np.reshape(X_test,(X_test.shape[0],X_test.shape[1],1))\n",
    "\n",
    "# Get the predicted scaled price\n",
    "pred_price = model.predict(X_test)\n",
    "pred_price = scaler.inverse_transform(pred_price)\n",
    "print(pred_price)"
   ]
  },
  {
   "cell_type": "markdown",
   "metadata": {
    "id": "d6bEJX1c9t23"
   },
   "source": [
    "# Forecasting For All Data"
   ]
  },
  {
   "cell_type": "code",
   "execution_count": 32,
   "metadata": {
    "executionInfo": {
     "elapsed": 1552,
     "status": "ok",
     "timestamp": 1607936881408,
     "user": {
      "displayName": "Ranjeet Jadhav",
      "photoUrl": "https://lh3.googleusercontent.com/a-/AOh14GhJKIWu6xiNk-wG8GpBU-So65DYj09ulyH629oSig=s64",
      "userId": "10874013577739596887"
     },
     "user_tz": -330
    },
    "id": "uyHkNzcYgRy8"
   },
   "outputs": [],
   "source": [
    "# Creating input data for prediction\n",
    "x_test1 = []\n",
    "for i in range(60,len(scaled_data)):\n",
    "    x_test1.append(scaled_data[i-60:i, 0])"
   ]
  },
  {
   "cell_type": "code",
   "execution_count": 33,
   "metadata": {
    "executionInfo": {
     "elapsed": 2463,
     "status": "ok",
     "timestamp": 1607936888570,
     "user": {
      "displayName": "Ranjeet Jadhav",
      "photoUrl": "https://lh3.googleusercontent.com/a-/AOh14GhJKIWu6xiNk-wG8GpBU-So65DYj09ulyH629oSig=s64",
      "userId": "10874013577739596887"
     },
     "user_tz": -330
    },
    "id": "OFAKY8hugTLY"
   },
   "outputs": [],
   "source": [
    "# Get the last 60 days index and convert to array\n",
    "X_test1 = np.array(x_test1)\n",
    "   \n",
    "#Reshape the data\n",
    "X_test1 = np.reshape(X_test1,(X_test1.shape[0],X_test1.shape[1],1))\n",
    "   \n",
    "# Get the predicted scaled price\n",
    "pred_price = model.predict(X_test1)\n",
    "predicted_price = scaler.inverse_transform(pred_price)"
   ]
  },
  {
   "cell_type": "code",
   "execution_count": 34,
   "metadata": {
    "colab": {
     "base_uri": "https://localhost:8080/"
    },
    "executionInfo": {
     "elapsed": 1938,
     "status": "ok",
     "timestamp": 1607936892848,
     "user": {
      "displayName": "Ranjeet Jadhav",
      "photoUrl": "https://lh3.googleusercontent.com/a-/AOh14GhJKIWu6xiNk-wG8GpBU-So65DYj09ulyH629oSig=s64",
      "userId": "10874013577739596887"
     },
     "user_tz": -330
    },
    "id": "JtRBjsiP5JJh",
    "outputId": "b522c583-5ba8-458b-857f-07225d8f561e"
   },
   "outputs": [
    {
     "data": {
      "text/plain": [
       "2397"
      ]
     },
     "execution_count": 34,
     "metadata": {
      "tags": []
     },
     "output_type": "execute_result"
    }
   ],
   "source": [
    "len(predicted_price)"
   ]
  },
  {
   "cell_type": "code",
   "execution_count": 59,
   "metadata": {
    "executionInfo": {
     "elapsed": 1509,
     "status": "ok",
     "timestamp": 1607938348941,
     "user": {
      "displayName": "Ranjeet Jadhav",
      "photoUrl": "https://lh3.googleusercontent.com/a-/AOh14GhJKIWu6xiNk-wG8GpBU-So65DYj09ulyH629oSig=s64",
      "userId": "10874013577739596887"
     },
     "user_tz": -330
    },
    "id": "J8enbP71l_9H"
   },
   "outputs": [],
   "source": []
  },
  {
   "cell_type": "markdown",
   "metadata": {
    "id": "cusCpK7R9eQO"
   },
   "source": [
    "## Plotting New Predicted Values"
   ]
  },
  {
   "cell_type": "code",
   "execution_count": 35,
   "metadata": {
    "executionInfo": {
     "elapsed": 1707,
     "status": "ok",
     "timestamp": 1607936901137,
     "user": {
      "displayName": "Ranjeet Jadhav",
      "photoUrl": "https://lh3.googleusercontent.com/a-/AOh14GhJKIWu6xiNk-wG8GpBU-So65DYj09ulyH629oSig=s64",
      "userId": "10874013577739596887"
     },
     "user_tz": -330
    },
    "id": "4UEH7Xt25ejC"
   },
   "outputs": [],
   "source": [
    "df_predicted = df.copy()\n",
    "df_predicted = df_predicted.iloc[60:]\n",
    "df_predicted['Predicted'] = predicted_price"
   ]
  },
  {
   "cell_type": "code",
   "execution_count": 36,
   "metadata": {
    "colab": {
     "base_uri": "https://localhost:8080/",
     "height": 225
    },
    "executionInfo": {
     "elapsed": 3459,
     "status": "ok",
     "timestamp": 1607936905545,
     "user": {
      "displayName": "Ranjeet Jadhav",
      "photoUrl": "https://lh3.googleusercontent.com/a-/AOh14GhJKIWu6xiNk-wG8GpBU-So65DYj09ulyH629oSig=s64",
      "userId": "10874013577739596887"
     },
     "user_tz": -330
    },
    "id": "mZQJo5mZ5rQf",
    "outputId": "26b7805b-5697-4bc2-a7e0-2f60911e5c2c"
   },
   "outputs": [
    {
     "data": {
      "text/html": [
       "<div>\n",
       "<style scoped>\n",
       "    .dataframe tbody tr th:only-of-type {\n",
       "        vertical-align: middle;\n",
       "    }\n",
       "\n",
       "    .dataframe tbody tr th {\n",
       "        vertical-align: top;\n",
       "    }\n",
       "\n",
       "    .dataframe thead th {\n",
       "        text-align: right;\n",
       "    }\n",
       "</style>\n",
       "<table border=\"1\" class=\"dataframe\">\n",
       "  <thead>\n",
       "    <tr style=\"text-align: right;\">\n",
       "      <th></th>\n",
       "      <th>Open</th>\n",
       "      <th>High</th>\n",
       "      <th>Low</th>\n",
       "      <th>Close</th>\n",
       "      <th>Shares Traded</th>\n",
       "      <th>Turnover (Rs. Cr)</th>\n",
       "      <th>Predicted</th>\n",
       "    </tr>\n",
       "    <tr>\n",
       "      <th>Date</th>\n",
       "      <th></th>\n",
       "      <th></th>\n",
       "      <th></th>\n",
       "      <th></th>\n",
       "      <th></th>\n",
       "      <th></th>\n",
       "      <th></th>\n",
       "    </tr>\n",
       "  </thead>\n",
       "  <tbody>\n",
       "    <tr>\n",
       "      <th>2011-03-30</th>\n",
       "      <td>5755.80</td>\n",
       "      <td>5803.15</td>\n",
       "      <td>5753.90</td>\n",
       "      <td>5787.65</td>\n",
       "      <td>133208726</td>\n",
       "      <td>6161.99</td>\n",
       "      <td>5772.862305</td>\n",
       "    </tr>\n",
       "    <tr>\n",
       "      <th>2011-03-31</th>\n",
       "      <td>5803.05</td>\n",
       "      <td>5872.00</td>\n",
       "      <td>5778.65</td>\n",
       "      <td>5833.75</td>\n",
       "      <td>219441114</td>\n",
       "      <td>11741.25</td>\n",
       "      <td>5807.180176</td>\n",
       "    </tr>\n",
       "    <tr>\n",
       "      <th>2011-04-01</th>\n",
       "      <td>5835.00</td>\n",
       "      <td>5860.20</td>\n",
       "      <td>5810.40</td>\n",
       "      <td>5826.05</td>\n",
       "      <td>118321855</td>\n",
       "      <td>5698.58</td>\n",
       "      <td>5865.884277</td>\n",
       "    </tr>\n",
       "    <tr>\n",
       "      <th>2011-04-04</th>\n",
       "      <td>5842.00</td>\n",
       "      <td>5918.70</td>\n",
       "      <td>5833.20</td>\n",
       "      <td>5908.45</td>\n",
       "      <td>106392427</td>\n",
       "      <td>5424.67</td>\n",
       "      <td>5868.882324</td>\n",
       "    </tr>\n",
       "    <tr>\n",
       "      <th>2011-04-05</th>\n",
       "      <td>5923.85</td>\n",
       "      <td>5928.65</td>\n",
       "      <td>5855.85</td>\n",
       "      <td>5910.05</td>\n",
       "      <td>110625437</td>\n",
       "      <td>5386.96</td>\n",
       "      <td>5913.473145</td>\n",
       "    </tr>\n",
       "  </tbody>\n",
       "</table>\n",
       "</div>"
      ],
      "text/plain": [
       "               Open     High  ...  Turnover (Rs. Cr)    Predicted\n",
       "Date                          ...                                \n",
       "2011-03-30  5755.80  5803.15  ...            6161.99  5772.862305\n",
       "2011-03-31  5803.05  5872.00  ...           11741.25  5807.180176\n",
       "2011-04-01  5835.00  5860.20  ...            5698.58  5865.884277\n",
       "2011-04-04  5842.00  5918.70  ...            5424.67  5868.882324\n",
       "2011-04-05  5923.85  5928.65  ...            5386.96  5913.473145\n",
       "\n",
       "[5 rows x 7 columns]"
      ]
     },
     "execution_count": 36,
     "metadata": {
      "tags": []
     },
     "output_type": "execute_result"
    }
   ],
   "source": [
    "df_predicted.set_index('Date', inplace = True)\n",
    "df_predicted.drop(labels = 'Unnamed: 0', axis = 1, inplace = True)\n",
    "df_predicted.head()"
   ]
  },
  {
   "cell_type": "code",
   "execution_count": 37,
   "metadata": {
    "colab": {
     "base_uri": "https://localhost:8080/",
     "height": 428
    },
    "executionInfo": {
     "elapsed": 3061,
     "status": "ok",
     "timestamp": 1607936913858,
     "user": {
      "displayName": "Ranjeet Jadhav",
      "photoUrl": "https://lh3.googleusercontent.com/a-/AOh14GhJKIWu6xiNk-wG8GpBU-So65DYj09ulyH629oSig=s64",
      "userId": "10874013577739596887"
     },
     "user_tz": -330
    },
    "id": "Ij2R9QZK8Nwg",
    "outputId": "da56db99-6d45-4e3f-f5d9-aeb525684e38"
   },
   "outputs": [
    {
     "data": {
      "image/png": "[encoded data removed]",
      "text/plain": [
       "<Figure size 1080x504 with 1 Axes>"
      ]
     },
     "metadata": {
      "needs_background": "light",
      "tags": []
     },
     "output_type": "display_data"
    }
   ],
   "source": [
    "plt.figure(figsize = (15,7))\n",
    "plt.plot(df_predicted['High'])\n",
    "plt.plot(df_predicted['Predicted'])\n",
    "plt.show()"
   ]
  },
  {
   "cell_type": "code",
   "execution_count": 76,
   "metadata": {
    "executionInfo": {
     "elapsed": 3688,
     "status": "ok",
     "timestamp": 1607941389401,
     "user": {
      "displayName": "Ranjeet Jadhav",
      "photoUrl": "https://lh3.googleusercontent.com/a-/AOh14GhJKIWu6xiNk-wG8GpBU-So65DYj09ulyH629oSig=s64",
      "userId": "10874013577739596887"
     },
     "user_tz": -330
    },
    "id": "xQ7sODXRJPjj"
   },
   "outputs": [],
   "source": [
    "# from google.colab import files\n",
    "# df_predicted.to_csv('Nifty50 forecasted data.csv', encoding = 'utf-8')\n",
    "# files.download('Nifty50 forecasted data.csv')"
   ]
  }
 ],
 "metadata": {
  "colab": {
   "authorship_tag": "ABX9TyMiVSmV/LcR904yftFqSxlM",
   "collapsed_sections": [],
   "name": "Nifty_50 forecasting with LSTM 2.ipynb",
   "provenance": [
    {
     "file_id": "1j9fFXkYgoARkFGJFGiEAXRbmehEIE6Ix",
     "timestamp": 1607934787103
    }
   ]
  },
  "kernelspec": {
   "display_name": "Python 3",
   "language": "python",
   "name": "python3"
  },
  "language_info": {
   "codemirror_mode": {
    "name": "ipython",
    "version": 3
   },
   "file_extension": ".py",
   "mimetype": "text/x-python",
   "name": "python",
   "nbconvert_exporter": "python",
   "pygments_lexer": "ipython3",
   "version": "3.7.6"
  }
 },
 "nbformat": 4,
 "nbformat_minor": 1
}
